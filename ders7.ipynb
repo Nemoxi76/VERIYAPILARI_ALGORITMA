{
  "nbformat": 4,
  "nbformat_minor": 0,
  "metadata": {
    "colab": {
      "provenance": []
    },
    "kernelspec": {
      "name": "python3",
      "display_name": "Python 3"
    },
    "language_info": {
      "name": "python"
    }
  },
  "cells": [
    {
      "cell_type": "code",
      "execution_count": null,
      "metadata": {
        "colab": {
          "base_uri": "https://localhost:8080/"
        },
        "id": "3xNFu-uhD2Mz",
        "outputId": "ef86684f-4f9e-41fd-957c-802b5a896b0b"
      },
      "outputs": [
        {
          "output_type": "stream",
          "name": "stdout",
          "text": [
            "Merhaba, İGÜ - İSTKA / Ders 7\n"
          ]
        }
      ],
      "source": [
        "print(\"Merhaba, İGÜ - İSTKA / Ders 7\") # print ekrana çıktı veren bir koddur."
      ]
    },
    {
      "cell_type": "code",
      "source": [
        "import sys # import python programlama dilinde yazılıma kütüphane eklemeye yarayan bir kod blogudur.\n",
        "print(sys.version)"
      ],
      "metadata": {
        "colab": {
          "base_uri": "https://localhost:8080/"
        },
        "id": "XMWYOPvzD2q0",
        "outputId": "a73a3ec5-c3c3-4b71-bce8-d69688bfdaa9"
      },
      "execution_count": null,
      "outputs": [
        {
          "output_type": "stream",
          "name": "stdout",
          "text": [
            "3.10.12 (main, Jul 29 2024, 16:56:48) [GCC 11.4.0]\n"
          ]
        }
      ]
    },
    {
      "cell_type": "code",
      "source": [
        "from google.colab import drive # google colab - drive bağlantısı\n",
        "\n",
        "drive.mount('/content/drive')"
      ],
      "metadata": {
        "colab": {
          "base_uri": "https://localhost:8080/"
        },
        "id": "r2j8SwsmITTe",
        "outputId": "47f03d17-636f-4b8a-f836-2de72b3707a3"
      },
      "execution_count": null,
      "outputs": [
        {
          "output_type": "stream",
          "name": "stdout",
          "text": [
            "Mounted at /content/drive\n"
          ]
        }
      ]
    },
    {
      "cell_type": "code",
      "source": [
        "import os\n",
        "\n",
        "os.chdir('/content/drive/My Drive/VERIYAPILARI_ISTKA')\n",
        "\n",
        "!pwd # bize kodun çıktısını dosya yolu olarak veren kod blogudur."
      ],
      "metadata": {
        "colab": {
          "base_uri": "https://localhost:8080/"
        },
        "id": "IQvecvoSIt3X",
        "outputId": "c13c8447-8407-4b6d-fa6a-eaf9d8786254"
      },
      "execution_count": null,
      "outputs": [
        {
          "output_type": "stream",
          "name": "stdout",
          "text": [
            "/content/drive/My Drive/VERIYAPILARI_ISTKA\n"
          ]
        }
      ]
    },
    {
      "cell_type": "code",
      "source": [
        "  import pandas as pd\n",
        "\n",
        "  VeriSetiYolu = '/content/drive/My Drive/VERIYAPILARI_ISTKA/veriseti'\n",
        "\n",
        "  for file in os.listdir(VeriSetiYolu):                         # Klasördeki tüm dosyaları listele\n",
        "\n",
        "      if file.endswith(('.xlsx', '.xls')):                     # Sadece Excel dosyalarını seç\n",
        "\n",
        "          df = pd.read_excel(os.path.join(VeriSetiYolu, file))  # Excel dosyasını pandas ile oku\n",
        "\n",
        "          df.to_csv(os.path.join(VeriSetiYolu, file.rsplit('.', 1)[0] + '.csv'), index=False)\n",
        "                                                                 # DataFrame'i CSV formatında kaydet\n",
        "          print(f\"{file} dosyası CSV formatına çevrildi.\")     # Çevrim İşlemi Çıktısı\n",
        "\n",
        "  # İşlem tamamlandığında kaç tane excel dosyası var ise o kadar *.csv formatına çevildiğinin\n",
        "  # bilgisini almaktayız"
      ],
      "metadata": {
        "id": "Nbl4X_1iJNkP",
        "outputId": "0351d930-ef76-45f6-d745-5d66e85639fc",
        "colab": {
          "base_uri": "https://localhost:8080/"
        }
      },
      "execution_count": 8,
      "outputs": [
        {
          "output_type": "stream",
          "name": "stdout",
          "text": [
            "atktan-geri-kazanm-miktarlar.xlsx dosyası CSV formatına çevrildi.\n"
          ]
        }
      ]
    }
  ]
}