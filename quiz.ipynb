{
  "nbformat": 4,
  "nbformat_minor": 0,
  "metadata": {
    "colab": {
      "provenance": []
    },
    "kernelspec": {
      "name": "python3",
      "display_name": "Python 3"
    },
    "language_info": {
      "name": "python"
    }
  },
  "cells": [
    {
      "cell_type": "code",
      "source": [
        "print(\"Merhaba, İGÜ - İSTKA / Ders 7\") # print ekrana çıktı veren bir koddur."
      ],
      "metadata": {
        "colab": {
          "base_uri": "https://localhost:8080/"
        },
        "id": "wSnc5bTrzTdz",
        "outputId": "9a0b5783-2fa7-4b22-eadb-34fdfa9d19d9"
      },
      "execution_count": 9,
      "outputs": [
        {
          "output_type": "stream",
          "name": "stdout",
          "text": [
            "Merhaba, İGÜ - İSTKA / Ders 7\n"
          ]
        }
      ]
    },
    {
      "cell_type": "code",
      "source": [
        "import sys # import python programlama dilinde yazılıma kütüphane eklemeye yarayan bir kod blogudur.\n",
        "print(sys.version)"
      ],
      "metadata": {
        "colab": {
          "base_uri": "https://localhost:8080/"
        },
        "id": "SmMdkSdGyicl",
        "outputId": "036d5373-55a6-4a65-96aa-c65cc32cb0c9"
      },
      "execution_count": 10,
      "outputs": [
        {
          "output_type": "stream",
          "name": "stdout",
          "text": [
            "3.10.12 (main, Jul 29 2024, 16:56:48) [GCC 11.4.0]\n"
          ]
        }
      ]
    },
    {
      "cell_type": "code",
      "source": [
        "from google.colab import drive # google colab - drive bağlantısı\n",
        "\n",
        "drive.mount('/content/drive')"
      ],
      "metadata": {
        "colab": {
          "base_uri": "https://localhost:8080/"
        },
        "id": "TcRlE0Acyie8",
        "outputId": "d11c6a92-bdc5-43d8-ec7a-b61d21ba4002"
      },
      "execution_count": 5,
      "outputs": [
        {
          "output_type": "stream",
          "name": "stdout",
          "text": [
            "Mounted at /content/drive\n"
          ]
        }
      ]
    },
    {
      "cell_type": "code",
      "source": [
        "import os\n",
        "\n",
        "os.chdir('/content/drive/My Drive/VERIYAPILARI_ISTKA')\n",
        "\n",
        "!pwd # bize kodun çıktısını dosya yolu olarak veren kod blogudur.\n",
        ""
      ],
      "metadata": {
        "colab": {
          "base_uri": "https://localhost:8080/"
        },
        "id": "UjNvVjaZyihD",
        "outputId": "20ff73ec-28cf-454f-b417-4881569a7929"
      },
      "execution_count": 6,
      "outputs": [
        {
          "output_type": "stream",
          "name": "stdout",
          "text": [
            "/content/drive/My Drive/VERIYAPILARI_ISTKA\n"
          ]
        }
      ]
    },
    {
      "cell_type": "markdown",
      "source": [
        "QUIZ 2\n",
        "S-1) Aşağıda bir isim listesi verilmiştir. Bu liste içindeki en uzun ismi ve bu ismin listenin içindeki indeksini bulan iki ayrı Python fonksiyonu yazın."
      ],
      "metadata": {
        "id": "5bX9pOmbATiI"
      }
    },
    {
      "cell_type": "code",
      "source": [
        "isim_listesi = [\"Ali\", \"Şerafettin\", \"Osman\", \"İclal\", \"Ayşe\"]\n",
        "\n",
        "# Fonksiyon 1: En uzun ismi bulan fonksiyon\n",
        "def en_uzun_ismi_bul(isim_listesi): # Burada en uzun ismi bulacak kodu yazın\n",
        "    ....\n",
        "    ....\n",
        "\n",
        "# Fonksiyon 2: En uzun ismin indeksini (adresini) bulan fonksiyon\n",
        "def en_uzun_isim_indeksi_bul(isim_listesi): # Burada en uzun ismin indeksini bulacak kodu yazın\n",
        "    ....\n",
        "    ....\n",
        "\n",
        "en_uzun_isim = en_uzun_ismi_bul(isim_listesi)\n",
        "en_uzun_indeks = en_uzun_isim_indeksi_bul(isim_listesi)\n",
        "\n",
        "print(\"En uzun isim: \", en_uzun_isim)           # Beklenen çıktı: 'Şerafettin'\n",
        "print(\"En uzun ismin adresi \", en_uzun_indeks)  # Beklenen çıktı: 1"
      ],
      "metadata": {
        "id": "1VwsG2xvAcOY"
      },
      "execution_count": null,
      "outputs": []
    },
    {
      "cell_type": "markdown",
      "source": [
        "QUIZ 2\n",
        "\n",
        "S-2) 1 ile 175 arasındaki 13'e tam bölünebilen sayıları bulan ve bu sayıları bir listeye ekleyen ve bu listeye kaç eleman eklendiğini bir Python programı yazınız?"
      ],
      "metadata": {
        "id": "C6RRGZjpAgJB"
      }
    },
    {
      "cell_type": "code",
      "source": [
        "Sayi_dizisi = []\n",
        "sayi = 1\n",
        "\n",
        "while sayi <= 175:\n",
        "    if sayi % 13 == 0:\n",
        "        Sayi_dizisi.append(sayi)\n",
        "    sayi += 1\n",
        "\n",
        "# Sonucu ekrana yazdır\n",
        "print(\"1 ile 175 arasındaki 13'e bölünen sayılar:\", Sayi_dizisi)\n",
        "print(\"Toplam sayı adeti: \", len(Sayi_dizisi))\n",
        ""
      ],
      "metadata": {
        "id": "33S1tjwmAg_I"
      },
      "execution_count": null,
      "outputs": []
    },
    {
      "cell_type": "code",
      "source": [
        "isim_listesi = [\"Ali\", \"Şerafettin\", \"Osman\", \"İclal\", \"Ayşe\"]\n",
        "\n",
        "def en_uzun_ismi_bul(isim_listesi):\n",
        "    en_uzun_isim = isim_listesi[0]  # Başlangıçta ilk ismi en uzun olarak varsayıyoruz\n",
        "    for isim in isim_listesi:\n",
        "        if len(isim) > len(en_uzun_isim):\n",
        "            en_uzun_isim = isim  # Daha uzun bir isim bulunursa, en uzun ismi güncelliyoruz\n",
        "    return en_uzun_isim\n",
        "\n",
        "def en_uzun_isim_indeksi_bul(isim_listesi):\n",
        "    en_uzun_indeks = 0  # Başlangıçta ilk ismin indeksini en uzun olarak varsayıyoruz\n",
        "    en_uzun_uzunluk = len(isim_listesi[0])  # İlk ismin uzunluğunu alıyoruz\n",
        "\n",
        "    for i in range(len(isim_listesi)):\n",
        "        if len(isim_listesi[i]) > en_uzun_uzunluk:\n",
        "            en_uzun_uzunluk = len(isim_listesi[i])\n",
        "            en_uzun_indeks = i  # Daha uzun bir isim bulunursa, en uzun ismin indeksini güncelliyoruz\n",
        "\n",
        "    return en_uzun_indeks\n",
        "\n",
        "en_uzun_isim = en_uzun_ismi_bul(isim_listesi)\n",
        "en_uzun_indeks = en_uzun_isim_indeksi_bul(isim_listesi)\n",
        "\n",
        "print(\"En uzun isim: \", en_uzun_isim)\n",
        "print(\"En uzun ismin liste adresi: \", en_uzun_indeks)"
      ],
      "metadata": {
        "id": "XzyCjd38Amjw"
      },
      "execution_count": null,
      "outputs": []
    }
  ]
}